{
 "cells": [
  {
   "cell_type": "markdown",
   "id": "73aff058",
   "metadata": {},
   "source": [
    "#### CÁC HÀM CƠ BẢN"
   ]
  },
  {
   "cell_type": "code",
   "execution_count": 1,
   "id": "5123f032",
   "metadata": {},
   "outputs": [],
   "source": [
    "import math\n",
    "\n",
    "# Tích vô hướng của 2 vector u và v\n",
    "def ScalarProduct(u, v):\n",
    "    return sum(a * b for a, b in zip(u, v))\n",
    "\n",
    "# Bình phương của chuẩn của vector u\n",
    "def SquareOfNorm(u):\n",
    "    return sum(a * a for a in u)\n",
    "\n",
    "# Nhân vector v với hằng số a\n",
    "def MultiplyWithScalar(a, v):\n",
    "    return [a * element for element in v]\n",
    "\n",
    "# Hiệu của 2 vector u và v\n",
    "def Subtract(u, v):\n",
    "    return [a - b for a, b in zip(u, v)]\n",
    "\n",
    "# Kiểm tra vector u có bằng 0\n",
    "def IsZero(u):\n",
    "    for a in u:\n",
    "        if a != 0:\n",
    "            return False\n",
    "    return True\n",
    "\n",
    "# Lấy ma trận chuyển vị của ma trận A\n",
    "def Transposition(A):\n",
    "    B = []\n",
    "    for i in range(len(A[0])):\n",
    "        row = []\n",
    "        for j in range(len(A)):\n",
    "            row.append(A[j][i])\n",
    "        B.append(row)\n",
    "    return B\n"
   ]
  },
  {
   "cell_type": "markdown",
   "id": "6bc1ed06",
   "metadata": {},
   "source": [
    "#### GIẢI THUẬT GRAM - SCHMIDT, PHÂN TÍCH QR"
   ]
  },
  {
   "cell_type": "code",
   "execution_count": 2,
   "id": "64337c5e",
   "metadata": {},
   "outputs": [],
   "source": [
    "# Trực giao, trực chuẩn hệ vector U = {u1, u2, ..., un} \n",
    "def GramSchmidt(U, tc = True):\n",
    "    flag = True\n",
    "    # Trực giao\n",
    "    V = []\n",
    "    for u in U:\n",
    "        vi = u\n",
    "        for vj in V:\n",
    "            vi = Subtract(vi, MultiplyWithScalar(ScalarProduct(u, vj) / SquareOfNorm(vj), vj))\n",
    "            if IsZero(vi):\n",
    "                flag = False\n",
    "        V.append(vi)\n",
    "    # Trực chuẩn\n",
    "    Q = []\n",
    "    if flag:\n",
    "        if tc:\n",
    "            for vi in V:\n",
    "                qi = MultiplyWithScalar(1 / math.sqrt(SquareOfNorm(vi)), vi)\n",
    "                Q.append(qi)\n",
    "    return [V, Q]\n",
    "\n",
    "# Phân tích QR từ hệ U và hệ trực chuẩn P\n",
    "def QR_Decomposition(U, P):\n",
    "    Q = []\n",
    "    R = [[0] * len(V) for _ in range(len(V))]\n",
    "    if P != []:\n",
    "        # Lấy ma trận Q\n",
    "        Q = Transposition(P)\n",
    "        # Lấy ma trận R\n",
    "        for i in range(len(R)):\n",
    "            for j in range(i, len(R)):\n",
    "                R[i][j] = ScalarProduct(P[i], U[j])\n",
    "    return [Q, R]\n"
   ]
  },
  {
   "cell_type": "markdown",
   "id": "7a15dde0",
   "metadata": {},
   "source": [
    "#### CHẠY CHƯƠNG TRÌNH VỚI DỮ LIỆU"
   ]
  },
  {
   "cell_type": "code",
   "execution_count": 3,
   "id": "7bb94330",
   "metadata": {},
   "outputs": [
    {
     "name": "stdout",
     "output_type": "stream",
     "text": [
      "Hệ trực giao:\n",
      "[[-1, 1, -1, 1], [1.0, 1.0, 1.0, 1.0], [-2.0, -2.0, 2.0, 2.0]]\n",
      "Hệ trực chuẩn:\n",
      "[[-0.5, 0.5, -0.5, 0.5], [0.5, 0.5, 0.5, 0.5], [-0.5, -0.5, 0.5, 0.5]]\n",
      "Phân rã QR\n",
      "Ma trận Q:\n",
      "[[-0.5, 0.5, -0.5], [0.5, 0.5, -0.5], [-0.5, 0.5, 0.5], [0.5, 0.5, 0.5]]\n",
      "Ma trận R:\n",
      "[[2.0, 4.0, 2.0], [0, 2.0, 8.0], [0, 0, 4.0]]\n"
     ]
    }
   ],
   "source": [
    "# 1\n",
    "u1 = [1, 0, 1]\n",
    "u2 = [1, 1, 1]\n",
    "u3 = [-1, 2, 1]\n",
    "\n",
    "# 2\n",
    "u1 = [1, 2, 1]\n",
    "u2 = [1, -2, 1]\n",
    "u3 = [1, 2, -1]\n",
    "\n",
    "# 3\n",
    "u1 = [1, 2, -2]\n",
    "u2 = [1, -1, 4]\n",
    "u3 = [2, 1, 1]\n",
    "\n",
    "# 4\n",
    "u1 = [1, 2, 3, 0]\n",
    "u2 = [1, 2, 0, 0]\n",
    "u3 = [1, 0, 0, 1]\n",
    "\n",
    "# 5\n",
    "u1 = [1, -1, 0, 1]\n",
    "u2 = [1, 0, 1, -1]\n",
    "u3 = [0, 1, 1, 0]\n",
    "\n",
    "# 6\n",
    "u1 = [-1, 1, -1, 1]\n",
    "u2 = [-1, 3, -1, 3]\n",
    "u3 = [1, 3, 5, 7]\n",
    "\n",
    "U = [u1, u2, u3]\n",
    "\n",
    "result1 = GramSchmidt(U)\n",
    "print(\"Hệ trực giao:\")\n",
    "V = result1[0]\n",
    "print(V)\n",
    "print(\"Hệ trực chuẩn:\")\n",
    "P = result1[1]\n",
    "print(P)\n",
    "\n",
    "result2 = QR_Decomposition(U, P)\n",
    "print(\"Phân rã QR\")\n",
    "print(\"Ma trận Q:\")\n",
    "Q = result2[0]\n",
    "print(Q)\n",
    "print(\"Ma trận R:\")\n",
    "R = result2[1]\n",
    "print(R)"
   ]
  }
 ],
 "metadata": {
  "kernelspec": {
   "display_name": "Python 3 (ipykernel)",
   "language": "python",
   "name": "python3"
  },
  "language_info": {
   "codemirror_mode": {
    "name": "ipython",
    "version": 3
   },
   "file_extension": ".py",
   "mimetype": "text/x-python",
   "name": "python",
   "nbconvert_exporter": "python",
   "pygments_lexer": "ipython3",
   "version": "3.8.12"
  }
 },
 "nbformat": 4,
 "nbformat_minor": 5
}
